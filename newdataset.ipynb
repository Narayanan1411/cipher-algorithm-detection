{
 "cells": [
  {
   "cell_type": "code",
   "execution_count": 2,
   "metadata": {},
   "outputs": [],
   "source": [
    "import pandas as pd"
   ]
  },
  {
   "cell_type": "code",
   "execution_count": 3,
   "metadata": {},
   "outputs": [],
   "source": [
    "df1=pd.read_csv(\"asymmetric_crypto_dataset.csv\")"
   ]
  },
  {
   "cell_type": "code",
   "execution_count": 4,
   "metadata": {},
   "outputs": [
    {
     "name": "stdout",
     "output_type": "stream",
     "text": [
      "<class 'pandas.core.frame.DataFrame'>\n",
      "RangeIndex: 5000000 entries, 0 to 4999999\n",
      "Data columns (total 2 columns):\n",
      " #   Column         Dtype \n",
      "---  ------         ----- \n",
      " 0   byte_sequence  object\n",
      " 1   algorithm      object\n",
      "dtypes: object(2)\n",
      "memory usage: 76.3+ MB\n"
     ]
    }
   ],
   "source": [
    "df1.info()"
   ]
  },
  {
   "cell_type": "code",
   "execution_count": 5,
   "metadata": {},
   "outputs": [
    {
     "data": {
      "text/html": [
       "<div>\n",
       "<style scoped>\n",
       "    .dataframe tbody tr th:only-of-type {\n",
       "        vertical-align: middle;\n",
       "    }\n",
       "\n",
       "    .dataframe tbody tr th {\n",
       "        vertical-align: top;\n",
       "    }\n",
       "\n",
       "    .dataframe thead th {\n",
       "        text-align: right;\n",
       "    }\n",
       "</style>\n",
       "<table border=\"1\" class=\"dataframe\">\n",
       "  <thead>\n",
       "    <tr style=\"text-align: right;\">\n",
       "      <th></th>\n",
       "      <th>byte_sequence</th>\n",
       "      <th>algorithm</th>\n",
       "    </tr>\n",
       "  </thead>\n",
       "  <tbody>\n",
       "    <tr>\n",
       "      <th>0</th>\n",
       "      <td>E4 30 28 99 4D E1 40 13 A9 91 72 5C 72 67 1D 3...</td>\n",
       "      <td>RSA-4096</td>\n",
       "    </tr>\n",
       "    <tr>\n",
       "      <th>1</th>\n",
       "      <td>2A F0 F7 A9 80 4F 82 BC 3F 37 90 B1 F9 91 D5 C...</td>\n",
       "      <td>RSA-4096</td>\n",
       "    </tr>\n",
       "    <tr>\n",
       "      <th>2</th>\n",
       "      <td>ED CF E4 CA 19 63 34 7F 5B 37 42 2C 81 4D F4 D...</td>\n",
       "      <td>RSA-4096</td>\n",
       "    </tr>\n",
       "    <tr>\n",
       "      <th>3</th>\n",
       "      <td>2B 17 2B 30 58 10 2E B7 0C 04 6D 6B EA 06 61 0...</td>\n",
       "      <td>DSA</td>\n",
       "    </tr>\n",
       "    <tr>\n",
       "      <th>4</th>\n",
       "      <td>19 D1 E9 81 A5 A5 63 AB B4 C8 68 E0 BA C9 B8 5...</td>\n",
       "      <td>RSA-2048</td>\n",
       "    </tr>\n",
       "  </tbody>\n",
       "</table>\n",
       "</div>"
      ],
      "text/plain": [
       "                                       byte_sequence algorithm\n",
       "0  E4 30 28 99 4D E1 40 13 A9 91 72 5C 72 67 1D 3...  RSA-4096\n",
       "1  2A F0 F7 A9 80 4F 82 BC 3F 37 90 B1 F9 91 D5 C...  RSA-4096\n",
       "2  ED CF E4 CA 19 63 34 7F 5B 37 42 2C 81 4D F4 D...  RSA-4096\n",
       "3  2B 17 2B 30 58 10 2E B7 0C 04 6D 6B EA 06 61 0...       DSA\n",
       "4  19 D1 E9 81 A5 A5 63 AB B4 C8 68 E0 BA C9 B8 5...  RSA-2048"
      ]
     },
     "execution_count": 5,
     "metadata": {},
     "output_type": "execute_result"
    }
   ],
   "source": [
    "df1.head()"
   ]
  },
  {
   "cell_type": "code",
   "execution_count": 6,
   "metadata": {},
   "outputs": [],
   "source": [
    "df2=pd.read_csv(\"symmetric_crypto_dataset1.csv\")"
   ]
  },
  {
   "cell_type": "code",
   "execution_count": 7,
   "metadata": {},
   "outputs": [
    {
     "name": "stdout",
     "output_type": "stream",
     "text": [
      "<class 'pandas.core.frame.DataFrame'>\n",
      "RangeIndex: 5000000 entries, 0 to 4999999\n",
      "Data columns (total 2 columns):\n",
      " #   Column         Dtype \n",
      "---  ------         ----- \n",
      " 0   byte_sequence  object\n",
      " 1   algorithm      object\n",
      "dtypes: object(2)\n",
      "memory usage: 76.3+ MB\n"
     ]
    }
   ],
   "source": [
    "df2.info()"
   ]
  },
  {
   "cell_type": "code",
   "execution_count": 8,
   "metadata": {},
   "outputs": [
    {
     "data": {
      "text/html": [
       "<div>\n",
       "<style scoped>\n",
       "    .dataframe tbody tr th:only-of-type {\n",
       "        vertical-align: middle;\n",
       "    }\n",
       "\n",
       "    .dataframe tbody tr th {\n",
       "        vertical-align: top;\n",
       "    }\n",
       "\n",
       "    .dataframe thead th {\n",
       "        text-align: right;\n",
       "    }\n",
       "</style>\n",
       "<table border=\"1\" class=\"dataframe\">\n",
       "  <thead>\n",
       "    <tr style=\"text-align: right;\">\n",
       "      <th></th>\n",
       "      <th>byte_sequence</th>\n",
       "      <th>algorithm</th>\n",
       "    </tr>\n",
       "  </thead>\n",
       "  <tbody>\n",
       "    <tr>\n",
       "      <th>0</th>\n",
       "      <td>f9 71 86 45 99 ff 17 17 91 23 84 13 2a b2 1d e...</td>\n",
       "      <td>Blowfish</td>\n",
       "    </tr>\n",
       "    <tr>\n",
       "      <th>1</th>\n",
       "      <td>90 d0 c7 1f 65 77 08 12 79 45 d2 2b 99 19 c1 0...</td>\n",
       "      <td>DES</td>\n",
       "    </tr>\n",
       "    <tr>\n",
       "      <th>2</th>\n",
       "      <td>8e c9 ca 0d 0c 73 07 d2 15 d3 94 7f fd 25 84 1...</td>\n",
       "      <td>Blowfish</td>\n",
       "    </tr>\n",
       "    <tr>\n",
       "      <th>3</th>\n",
       "      <td>cd d6 88 68 03 42 61 0b 53 3e 54 1d 69 74 8d a...</td>\n",
       "      <td>AES-256</td>\n",
       "    </tr>\n",
       "    <tr>\n",
       "      <th>4</th>\n",
       "      <td>8a d0 b8 f2 bc 6c 27 cd 4d a2 50 cc 96 48 43 b...</td>\n",
       "      <td>AES-256</td>\n",
       "    </tr>\n",
       "  </tbody>\n",
       "</table>\n",
       "</div>"
      ],
      "text/plain": [
       "                                       byte_sequence algorithm\n",
       "0  f9 71 86 45 99 ff 17 17 91 23 84 13 2a b2 1d e...  Blowfish\n",
       "1  90 d0 c7 1f 65 77 08 12 79 45 d2 2b 99 19 c1 0...       DES\n",
       "2  8e c9 ca 0d 0c 73 07 d2 15 d3 94 7f fd 25 84 1...  Blowfish\n",
       "3  cd d6 88 68 03 42 61 0b 53 3e 54 1d 69 74 8d a...   AES-256\n",
       "4  8a d0 b8 f2 bc 6c 27 cd 4d a2 50 cc 96 48 43 b...   AES-256"
      ]
     },
     "execution_count": 8,
     "metadata": {},
     "output_type": "execute_result"
    }
   ],
   "source": [
    "df2.head()"
   ]
  },
  {
   "cell_type": "code",
   "execution_count": 9,
   "metadata": {},
   "outputs": [],
   "source": [
    "df3=pd.read_csv(\"stream_cipher_dataset.csv\")"
   ]
  },
  {
   "cell_type": "code",
   "execution_count": 10,
   "metadata": {},
   "outputs": [
    {
     "name": "stdout",
     "output_type": "stream",
     "text": [
      "<class 'pandas.core.frame.DataFrame'>\n",
      "RangeIndex: 5000000 entries, 0 to 4999999\n",
      "Data columns (total 2 columns):\n",
      " #   Column         Dtype \n",
      "---  ------         ----- \n",
      " 0   byte_sequence  object\n",
      " 1   algorithm      object\n",
      "dtypes: object(2)\n",
      "memory usage: 76.3+ MB\n"
     ]
    }
   ],
   "source": [
    "df3.info()"
   ]
  },
  {
   "cell_type": "code",
   "execution_count": 11,
   "metadata": {},
   "outputs": [
    {
     "data": {
      "text/html": [
       "<div>\n",
       "<style scoped>\n",
       "    .dataframe tbody tr th:only-of-type {\n",
       "        vertical-align: middle;\n",
       "    }\n",
       "\n",
       "    .dataframe tbody tr th {\n",
       "        vertical-align: top;\n",
       "    }\n",
       "\n",
       "    .dataframe thead th {\n",
       "        text-align: right;\n",
       "    }\n",
       "</style>\n",
       "<table border=\"1\" class=\"dataframe\">\n",
       "  <thead>\n",
       "    <tr style=\"text-align: right;\">\n",
       "      <th></th>\n",
       "      <th>byte_sequence</th>\n",
       "      <th>algorithm</th>\n",
       "    </tr>\n",
       "  </thead>\n",
       "  <tbody>\n",
       "    <tr>\n",
       "      <th>0</th>\n",
       "      <td>82 5e ec 25 83 cb c4 ce f1 38 a3 f7 63 45 64 4...</td>\n",
       "      <td>Salsa20</td>\n",
       "    </tr>\n",
       "    <tr>\n",
       "      <th>1</th>\n",
       "      <td>ad 14 fe 89 be 3f 81 03 c5 80 39 2a f2 a9 f8 a...</td>\n",
       "      <td>ChaCha20</td>\n",
       "    </tr>\n",
       "    <tr>\n",
       "      <th>2</th>\n",
       "      <td>43 c2 44 df d4 da 6a c6 ba bf 86 e3 e6 1f 4c b...</td>\n",
       "      <td>Salsa20</td>\n",
       "    </tr>\n",
       "    <tr>\n",
       "      <th>3</th>\n",
       "      <td>f8 9e f7 83 85 01 07 3d 2e 96 2e 11 30 55 3b 8...</td>\n",
       "      <td>Salsa20</td>\n",
       "    </tr>\n",
       "    <tr>\n",
       "      <th>4</th>\n",
       "      <td>9b cf 67 42 9f 3b c5 88 c7 fc cb 4f de e1 53 f...</td>\n",
       "      <td>Salsa20</td>\n",
       "    </tr>\n",
       "  </tbody>\n",
       "</table>\n",
       "</div>"
      ],
      "text/plain": [
       "                                       byte_sequence algorithm\n",
       "0  82 5e ec 25 83 cb c4 ce f1 38 a3 f7 63 45 64 4...   Salsa20\n",
       "1  ad 14 fe 89 be 3f 81 03 c5 80 39 2a f2 a9 f8 a...  ChaCha20\n",
       "2  43 c2 44 df d4 da 6a c6 ba bf 86 e3 e6 1f 4c b...   Salsa20\n",
       "3  f8 9e f7 83 85 01 07 3d 2e 96 2e 11 30 55 3b 8...   Salsa20\n",
       "4  9b cf 67 42 9f 3b c5 88 c7 fc cb 4f de e1 53 f...   Salsa20"
      ]
     },
     "execution_count": 11,
     "metadata": {},
     "output_type": "execute_result"
    }
   ],
   "source": [
    "df3.head()"
   ]
  },
  {
   "cell_type": "code",
   "execution_count": 12,
   "metadata": {},
   "outputs": [],
   "source": [
    "frames=[df1,df2,df3]"
   ]
  },
  {
   "cell_type": "code",
   "execution_count": 13,
   "metadata": {},
   "outputs": [],
   "source": [
    "dataset=pd.concat(frames)"
   ]
  },
  {
   "cell_type": "code",
   "execution_count": 14,
   "metadata": {},
   "outputs": [
    {
     "name": "stdout",
     "output_type": "stream",
     "text": [
      "<class 'pandas.core.frame.DataFrame'>\n",
      "Index: 15000000 entries, 0 to 4999999\n",
      "Data columns (total 2 columns):\n",
      " #   Column         Dtype \n",
      "---  ------         ----- \n",
      " 0   byte_sequence  object\n",
      " 1   algorithm      object\n",
      "dtypes: object(2)\n",
      "memory usage: 343.3+ MB\n"
     ]
    }
   ],
   "source": [
    "dataset.info()"
   ]
  },
  {
   "cell_type": "code",
   "execution_count": 14,
   "metadata": {},
   "outputs": [
    {
     "ename": "",
     "evalue": "",
     "output_type": "error",
     "traceback": [
      "\u001b[1;31mCannot execute code, session has been disposed. Please try restarting the Kernel."
     ]
    },
    {
     "ename": "",
     "evalue": "",
     "output_type": "error",
     "traceback": [
      "\u001b[1;31mCannot execute code, session has been disposed. Please try restarting the Kernel. \n",
      "\u001b[1;31mView Jupyter <a href='command:jupyter.viewOutput'>log</a> for further details."
     ]
    }
   ],
   "source": [
    "#dataset['byte_sequence'].nunique()"
   ]
  },
  {
   "cell_type": "code",
   "execution_count": 15,
   "metadata": {},
   "outputs": [],
   "source": [
    "dataset.to_csv('output.csv', index=False)"
   ]
  }
 ],
 "metadata": {
  "kernelspec": {
   "display_name": "Python 3",
   "language": "python",
   "name": "python3"
  },
  "language_info": {
   "codemirror_mode": {
    "name": "ipython",
    "version": 3
   },
   "file_extension": ".py",
   "mimetype": "text/x-python",
   "name": "python",
   "nbconvert_exporter": "python",
   "pygments_lexer": "ipython3",
   "version": "3.12.6"
  }
 },
 "nbformat": 4,
 "nbformat_minor": 2
}
